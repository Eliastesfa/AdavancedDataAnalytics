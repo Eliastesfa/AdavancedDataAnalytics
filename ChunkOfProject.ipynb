{
 "cells": [
  {
   "cell_type": "code",
   "execution_count": null,
   "metadata": {},
   "outputs": [],
   "source": [
    "#data= something['meta']"
   ]
  },
  {
   "cell_type": "code",
   "execution_count": 14,
   "metadata": {},
   "outputs": [],
   "source": [
    "data = {'Date Of Stop':{'0': '2019-02-13',\n",
    "                    '1': '2019-02-14',\n",
    "                    '2': '2019-02-15',\n",
    "                    '3' : '2019-02-16',\n",
    "                    '4': '2019-02-14'}\n",
    "        ,\n",
    "        'Make':{'0': 'Toyota',\n",
    "                    '1': 'Mazda',\n",
    "                    '2': 'Ford',\n",
    "                    '3': 'Kia',\n",
    "                    '4': 'BMW'}\n",
    "       }"
   ]
  },
  {
   "cell_type": "code",
   "execution_count": null,
   "metadata": {},
   "outputs": [],
   "source": []
  },
  {
   "cell_type": "code",
   "execution_count": 5,
   "metadata": {},
   "outputs": [
    {
     "data": {
      "text/plain": [
       "{'Date Of Stop': {'0': '2019-02-13',\n",
       "  '1': '2019-02-14',\n",
       "  '2': '2019-02-15',\n",
       "  '3': '2019-02-16',\n",
       "  '4': '2019-02-14'},\n",
       " 'Make': {'0': 'Toyota', '1': 'Mazda', '2': 'Ford', '3': 'Kia', '4': 'BMW'}}"
      ]
     },
     "execution_count": 5,
     "metadata": {},
     "output_type": "execute_result"
    }
   ],
   "source": [
    "data['Date Of Stop']['0']='2019-02-13'"
   ]
  },
  {
   "cell_type": "code",
   "execution_count": 18,
   "metadata": {},
   "outputs": [
    {
     "name": "stdout",
     "output_type": "stream",
     "text": [
      "{'0': '2019-02-13', '1': '2019-02-14', '2': '2019-02-15', '3': '2019-02-16', '4': '2019-02-14'}\n",
      "Date Of Stop\n",
      "{'0': 'Toyota', '1': 'Mazda', '2': 'Ford', '3': 'Kia', '4': 'BMW'}\n",
      "Make\n"
     ]
    }
   ],
   "source": [
    "DateOfStop=[]\n",
    "CarModel=[]\n",
    "for i in data: #Data[i]['0']='2019-02-13' and #Data[i]['1']=Toyota\n",
    "    print (i) # ==Date Of Stop i get the keys and data[i] gets the values of i\n",
    "    print(data[i])  #{'0': '2019-02-13', '1': '2019-02-14', '2': '2019-02-15', '3': '2019-02-16', '4': '2019-02-14'}\n",
    "  \n",
    "    for j in data[i]: # data[][j]=\n",
    "        #print(pets[i][j])\n",
    "        if i=='Date Of Stop':\n",
    "            DateOfStop.append(data[i][j])\n",
    "        if i=='Make':\n",
    "            CarModel.append(data[i][j])\n",
    "        #print(pets['people'][j])\n",
    "#DateOfStop\n"
   ]
  },
  {
   "cell_type": "code",
   "execution_count": 11,
   "metadata": {},
   "outputs": [
    {
     "data": {
      "text/plain": [
       "['Toyota', 'Mazda', 'Ford', 'Kia', 'BMW']"
      ]
     },
     "execution_count": 11,
     "metadata": {},
     "output_type": "execute_result"
    }
   ],
   "source": [
    "CarModel"
   ]
  },
  {
   "cell_type": "code",
   "execution_count": null,
   "metadata": {},
   "outputs": [],
   "source": []
  }
 ],
 "metadata": {
  "kernelspec": {
   "display_name": "Python 3",
   "language": "python",
   "name": "python3"
  },
  "language_info": {
   "codemirror_mode": {
    "name": "ipython",
    "version": 3
   },
   "file_extension": ".py",
   "mimetype": "text/x-python",
   "name": "python",
   "nbconvert_exporter": "python",
   "pygments_lexer": "ipython3",
   "version": "3.7.1"
  }
 },
 "nbformat": 4,
 "nbformat_minor": 2
}
