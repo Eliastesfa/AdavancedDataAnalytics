{
 "cells": [
  {
   "cell_type": "code",
   "execution_count": 90,
   "metadata": {},
   "outputs": [],
   "source": [
    "import requests  #similar to urllib, this library allows a computer to ping a website\n",
    "import json      #library to handle JSON formatted data\n",
    "import pandas as pd\n",
    "import numpy as np"
   ]
  },
  {
   "cell_type": "code",
   "execution_count": 56,
   "metadata": {},
   "outputs": [],
   "source": [
    "url ='https://data.nasa.gov/resource/y77d-th95.json'"
   ]
  },
  {
   "cell_type": "code",
   "execution_count": 57,
   "metadata": {},
   "outputs": [
    {
     "data": {
      "text/plain": [
       "<Response [200]>"
      ]
     },
     "execution_count": 57,
     "metadata": {},
     "output_type": "execute_result"
    }
   ],
   "source": [
    "#the get function checks to make sure that the website/server is responding back\n",
    "#200 means that we're good\n",
    "#https://www.restapitutorial.com/httpstatuscodes.html\n",
    "resp = requests.get(url)\n",
    "resp"
   ]
  },
  {
   "cell_type": "code",
   "execution_count": 130,
   "metadata": {
    "scrolled": false
   },
   "outputs": [],
   "source": [
    "#send a request to the website to return back text data from the API\n",
    "#returns data as JSON string\n",
    "str_data = resp.text\n"
   ]
  },
  {
   "cell_type": "code",
   "execution_count": 133,
   "metadata": {
    "scrolled": false
   },
   "outputs": [
    {
     "data": {
      "text/plain": [
       "list"
      ]
     },
     "execution_count": 133,
     "metadata": {},
     "output_type": "execute_result"
    }
   ],
   "source": [
    "#loads function reversed dictionary order\n",
    "#dictionary objects are unordered in general\n",
    "WDdata = json.loads(str_data)\n",
    "type(WDdata)"
   ]
  },
  {
   "cell_type": "code",
   "execution_count": 137,
   "metadata": {},
   "outputs": [],
   "source": [
    "#dumps function reverses order again\n",
    "#can currently see correct order of objects\n",
    "\n",
    "#print(json.dumps(WDdata,indent=4))"
   ]
  },
  {
   "cell_type": "code",
   "execution_count": 60,
   "metadata": {},
   "outputs": [
    {
     "data": {
      "text/plain": [
       "list"
      ]
     },
     "execution_count": 60,
     "metadata": {},
     "output_type": "execute_result"
    }
   ],
   "source": [
    "#verify that JSON object is one big dictionary\n",
    "type(WDdata)"
   ]
  },
  {
   "cell_type": "code",
   "execution_count": 92,
   "metadata": {},
   "outputs": [],
   "source": [
    "idls=[]\n",
    "fallls=[]\n",
    "namels=[]\n",
    "ntypesls=[]\n",
    "massels=[]\n",
    "yearls=[]\n",
    "latitudels=[]\n",
    "longitudels=[]"
   ]
  },
  {
   "cell_type": "code",
   "execution_count": 127,
   "metadata": {},
   "outputs": [
    {
     "name": "stdout",
     "output_type": "stream",
     "text": [
      "Hey\n"
     ]
    }
   ],
   "source": [
    "#if mass is a float then change it to the nearest integer else just load it\n",
    "x=[]\n",
    "x=5.92\n",
    "\n",
    "x=int(round(x))\n",
    "type(x)\n",
    "x\n",
    "type(x)\n",
    "if type(x)==int:\n",
    "    print('Hey')\n",
    "else:\n",
    "    print('booo')"
   ]
  },
  {
   "cell_type": "code",
   "execution_count": 138,
   "metadata": {},
   "outputs": [],
   "source": [
    "y=[]\n",
    "for meteor in WDdata:\n",
    "    try: masse = meteor['mass']\n",
    "    except: masse = None\n",
    "    if type(masse)==int:\n",
    "        masse=int(round(masse))\n",
    "        y.append(masse)\n",
    "        #print(masse)\n",
    "    #print(masse)\n",
    "    #print(meteor['name'])"
   ]
  },
  {
   "cell_type": "code",
   "execution_count": 121,
   "metadata": {},
   "outputs": [],
   "source": [
    "for meteor in WDdata:\n",
    "    idls.append(meteor['id'])\n",
    "    fallls.append(meteor['fall'])\n",
    "    namels.append(meteor['name'])\n",
    "    ntypesls.append(meteor['nametype'])\n",
    "    #massels.append(meteor['mass'])\n",
    "    \n",
    "        \n",
    "    try: years= meteor['year']\n",
    "    except: years= None \n",
    "    \n",
    "    try: latitude=meteor['reclat']\n",
    "    except: latitude=None\n",
    "\n",
    "    try: longitude=meteor['reclong']\n",
    "    except: longitude=None\n",
    "        \n",
    "    try: masse = meteor['mass']\n",
    "    except: masse = None\n",
    "        \n",
    "    if type(masse)==int:\n",
    "        masse=int(round(masse))\n",
    "        massels.append(masse)\n",
    "    else:\n",
    "        massels.append(masse)\n",
    "    yearls.append(years)\n",
    "    latitudels.append(latitude)\n",
    "    longitudels.append(longitude)"
   ]
  },
  {
   "cell_type": "code",
   "execution_count": 139,
   "metadata": {},
   "outputs": [],
   "source": [
    "#massels"
   ]
  },
  {
   "cell_type": "code",
   "execution_count": 123,
   "metadata": {},
   "outputs": [
    {
     "data": {
      "text/plain": [
       "1000"
      ]
     },
     "execution_count": 123,
     "metadata": {},
     "output_type": "execute_result"
    }
   ],
   "source": [
    "len(idls)\n",
    "len(fallls)\n",
    "len(namels)\n",
    "len(ntypesls)\n",
    "len(massels)"
   ]
  },
  {
   "cell_type": "code",
   "execution_count": 140,
   "metadata": {},
   "outputs": [],
   "source": [
    "table=list(zip(idls,fallls,namels,ntypesls,massels,yearls,latitudels,longitudels))\n"
   ]
  },
  {
   "cell_type": "code",
   "execution_count": 125,
   "metadata": {},
   "outputs": [],
   "source": [
    "ColumnNames=['ID','Fall','Name','TypeName','Masse','Year','Latitude','Longitude']\n"
   ]
  },
  {
   "cell_type": "code",
   "execution_count": 126,
   "metadata": {},
   "outputs": [
    {
     "data": {
      "text/html": [
       "<div>\n",
       "<style scoped>\n",
       "    .dataframe tbody tr th:only-of-type {\n",
       "        vertical-align: middle;\n",
       "    }\n",
       "\n",
       "    .dataframe tbody tr th {\n",
       "        vertical-align: top;\n",
       "    }\n",
       "\n",
       "    .dataframe thead th {\n",
       "        text-align: right;\n",
       "    }\n",
       "</style>\n",
       "<table border=\"1\" class=\"dataframe\">\n",
       "  <thead>\n",
       "    <tr style=\"text-align: right;\">\n",
       "      <th></th>\n",
       "      <th>ID</th>\n",
       "      <th>Fall</th>\n",
       "      <th>Name</th>\n",
       "      <th>TypeName</th>\n",
       "      <th>Masse</th>\n",
       "      <th>Year</th>\n",
       "      <th>Latitude</th>\n",
       "      <th>Longitude</th>\n",
       "    </tr>\n",
       "  </thead>\n",
       "  <tbody>\n",
       "    <tr>\n",
       "      <th>0</th>\n",
       "      <td>1</td>\n",
       "      <td>Fell</td>\n",
       "      <td>Aachen</td>\n",
       "      <td>Valid</td>\n",
       "      <td>21</td>\n",
       "      <td>1880-01-01T00:00:00.000</td>\n",
       "      <td>50.775000</td>\n",
       "      <td>6.083330</td>\n",
       "    </tr>\n",
       "    <tr>\n",
       "      <th>1</th>\n",
       "      <td>2</td>\n",
       "      <td>Fell</td>\n",
       "      <td>Aarhus</td>\n",
       "      <td>Valid</td>\n",
       "      <td>720</td>\n",
       "      <td>1951-01-01T00:00:00.000</td>\n",
       "      <td>56.183330</td>\n",
       "      <td>10.233330</td>\n",
       "    </tr>\n",
       "    <tr>\n",
       "      <th>2</th>\n",
       "      <td>6</td>\n",
       "      <td>Fell</td>\n",
       "      <td>Abee</td>\n",
       "      <td>Valid</td>\n",
       "      <td>107000</td>\n",
       "      <td>1952-01-01T00:00:00.000</td>\n",
       "      <td>54.216670</td>\n",
       "      <td>-113.000000</td>\n",
       "    </tr>\n",
       "    <tr>\n",
       "      <th>3</th>\n",
       "      <td>10</td>\n",
       "      <td>Fell</td>\n",
       "      <td>Acapulco</td>\n",
       "      <td>Valid</td>\n",
       "      <td>1914</td>\n",
       "      <td>1976-01-01T00:00:00.000</td>\n",
       "      <td>16.883330</td>\n",
       "      <td>-99.900000</td>\n",
       "    </tr>\n",
       "    <tr>\n",
       "      <th>4</th>\n",
       "      <td>370</td>\n",
       "      <td>Fell</td>\n",
       "      <td>Achiras</td>\n",
       "      <td>Valid</td>\n",
       "      <td>780</td>\n",
       "      <td>1902-01-01T00:00:00.000</td>\n",
       "      <td>-33.166670</td>\n",
       "      <td>-64.950000</td>\n",
       "    </tr>\n",
       "  </tbody>\n",
       "</table>\n",
       "</div>"
      ],
      "text/plain": [
       "    ID  Fall      Name TypeName   Masse                     Year    Latitude  \\\n",
       "0    1  Fell    Aachen    Valid      21  1880-01-01T00:00:00.000   50.775000   \n",
       "1    2  Fell    Aarhus    Valid     720  1951-01-01T00:00:00.000   56.183330   \n",
       "2    6  Fell      Abee    Valid  107000  1952-01-01T00:00:00.000   54.216670   \n",
       "3   10  Fell  Acapulco    Valid    1914  1976-01-01T00:00:00.000   16.883330   \n",
       "4  370  Fell   Achiras    Valid     780  1902-01-01T00:00:00.000  -33.166670   \n",
       "\n",
       "     Longitude  \n",
       "0     6.083330  \n",
       "1    10.233330  \n",
       "2  -113.000000  \n",
       "3   -99.900000  \n",
       "4   -64.950000  "
      ]
     },
     "execution_count": 126,
     "metadata": {},
     "output_type": "execute_result"
    }
   ],
   "source": [
    "df=pd.DataFrame(table,columns=ColumnNames)\n",
    "df.head()"
   ]
  },
  {
   "cell_type": "code",
   "execution_count": 14,
   "metadata": {},
   "outputs": [
    {
     "data": {
      "text/plain": [
       "dict_keys(['fall', 'geolocation', 'id', 'mass', 'name', 'nametype', 'recclass', 'reclat', 'reclong', 'year'])"
      ]
     },
     "execution_count": 14,
     "metadata": {},
     "output_type": "execute_result"
    }
   ],
   "source": []
  },
  {
   "cell_type": "code",
   "execution_count": 128,
   "metadata": {},
   "outputs": [
    {
     "data": {
      "text/plain": [
       "ID           1000\n",
       "Fall         1000\n",
       "Name         1000\n",
       "TypeName     1000\n",
       "Masse         972\n",
       "Year          999\n",
       "Latitude      988\n",
       "Longitude     988\n",
       "dtype: int64"
      ]
     },
     "execution_count": 128,
     "metadata": {},
     "output_type": "execute_result"
    }
   ],
   "source": [
    "#.count counts only values not nulls\n",
    "df.count()"
   ]
  },
  {
   "cell_type": "code",
   "execution_count": null,
   "metadata": {},
   "outputs": [],
   "source": []
  }
 ],
 "metadata": {
  "kernelspec": {
   "display_name": "Python 3",
   "language": "python",
   "name": "python3"
  },
  "language_info": {
   "codemirror_mode": {
    "name": "ipython",
    "version": 3
   },
   "file_extension": ".py",
   "mimetype": "text/x-python",
   "name": "python",
   "nbconvert_exporter": "python",
   "pygments_lexer": "ipython3",
   "version": "3.7.1"
  }
 },
 "nbformat": 4,
 "nbformat_minor": 2
}
